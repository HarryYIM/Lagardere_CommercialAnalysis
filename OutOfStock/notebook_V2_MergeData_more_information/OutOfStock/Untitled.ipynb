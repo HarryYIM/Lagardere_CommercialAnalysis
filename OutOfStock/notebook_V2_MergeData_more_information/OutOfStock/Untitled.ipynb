{
 "cells": [
  {
   "cell_type": "code",
   "execution_count": 1,
   "metadata": {},
   "outputs": [],
   "source": [
    "import pandas as pd\n",
    "from datetime import datetime, timedelta\n",
    "import matplotlib.pyplot as plt\n",
    "import seaborn as sns\n",
    "from matplotlib import pyplot\n",
    "import plotly.express as px\n",
    "import plotly.graph_objects as go\n",
    "from OOS_check_helper import *\n",
    "import warnings\n",
    "warnings.filterwarnings('ignore')\n",
    "import os\n",
    "import sys\n",
    "import subprocess\n",
    "sns.set_style(\"whitegrid\")\n"
   ]
  },
  {
   "cell_type": "code",
   "execution_count": null,
   "metadata": {},
   "outputs": [],
   "source": []
  },
  {
   "cell_type": "code",
   "execution_count": 2,
   "metadata": {},
   "outputs": [
    {
     "name": "stdout",
     "output_type": "stream",
     "text": [
      "finish clean one dataset.\n"
     ]
    }
   ],
   "source": [
    "new_data1 = clean_data(\"../../data/rowData/Row_data.xlsx\")"
   ]
  },
  {
   "cell_type": "code",
   "execution_count": 3,
   "metadata": {},
   "outputs": [
    {
     "data": {
      "text/html": [
       "<div>\n",
       "<style scoped>\n",
       "    .dataframe tbody tr th:only-of-type {\n",
       "        vertical-align: middle;\n",
       "    }\n",
       "\n",
       "    .dataframe tbody tr th {\n",
       "        vertical-align: top;\n",
       "    }\n",
       "\n",
       "    .dataframe thead th {\n",
       "        text-align: right;\n",
       "    }\n",
       "</style>\n",
       "<table border=\"1\" class=\"dataframe\">\n",
       "  <thead>\n",
       "    <tr style=\"text-align: right;\">\n",
       "      <th></th>\n",
       "      <th>Date</th>\n",
       "      <th>State</th>\n",
       "      <th>City</th>\n",
       "      <th>BU</th>\n",
       "      <th>Concept</th>\n",
       "      <th>Store</th>\n",
       "      <th>Category</th>\n",
       "      <th>Brand</th>\n",
       "      <th>SKU</th>\n",
       "      <th>Net Sale</th>\n",
       "      <th>Qty Sold</th>\n",
       "      <th>POS Margin on Net Sales</th>\n",
       "      <th>Stock Balance Qty</th>\n",
       "      <th>Margin</th>\n",
       "      <th>Net Sales</th>\n",
       "    </tr>\n",
       "  </thead>\n",
       "  <tbody>\n",
       "    <tr>\n",
       "      <th>0</th>\n",
       "      <td>2019-11-01</td>\n",
       "      <td>QLD</td>\n",
       "      <td>Brisbane</td>\n",
       "      <td>Foodservice</td>\n",
       "      <td>Cafe</td>\n",
       "      <td>AULS.BNE208</td>\n",
       "      <td>03-Books</td>\n",
       "      <td>PENG-Pengiun Books</td>\n",
       "      <td>AULS499156-My Brothers Name Is Jessica</td>\n",
       "      <td>0.0</td>\n",
       "      <td>0</td>\n",
       "      <td>0.0</td>\n",
       "      <td>-4.0</td>\n",
       "      <td>0.0</td>\n",
       "      <td>0.0</td>\n",
       "    </tr>\n",
       "    <tr>\n",
       "      <th>1</th>\n",
       "      <td>2019-11-01</td>\n",
       "      <td>QLD</td>\n",
       "      <td>Brisbane</td>\n",
       "      <td>Specialty</td>\n",
       "      <td>Tech2Go</td>\n",
       "      <td>AULS.BNE205</td>\n",
       "      <td>09-Apparel</td>\n",
       "      <td>None</td>\n",
       "      <td>AULS466476-Mens Watch Traditional Asst</td>\n",
       "      <td>0.0</td>\n",
       "      <td>0</td>\n",
       "      <td>0.0</td>\n",
       "      <td>1.0</td>\n",
       "      <td>0.0</td>\n",
       "      <td>0.0</td>\n",
       "    </tr>\n",
       "    <tr>\n",
       "      <th>2</th>\n",
       "      <td>2019-11-01</td>\n",
       "      <td>QLD</td>\n",
       "      <td>Brisbane</td>\n",
       "      <td>Specialty</td>\n",
       "      <td>Tech2Go</td>\n",
       "      <td>AULS.BNE205</td>\n",
       "      <td>09-Apparel</td>\n",
       "      <td>None</td>\n",
       "      <td>AULS494736BLKBLOS-CALICO TOTE TECH2GO</td>\n",
       "      <td>0.0</td>\n",
       "      <td>0</td>\n",
       "      <td>0.0</td>\n",
       "      <td>50.0</td>\n",
       "      <td>0.0</td>\n",
       "      <td>0.0</td>\n",
       "    </tr>\n",
       "    <tr>\n",
       "      <th>3</th>\n",
       "      <td>2019-11-01</td>\n",
       "      <td>QLD</td>\n",
       "      <td>Gold Coast</td>\n",
       "      <td>BNC</td>\n",
       "      <td>Hub</td>\n",
       "      <td>AULS.OOL103</td>\n",
       "      <td>03-Books</td>\n",
       "      <td>ALUN-ALUN</td>\n",
       "      <td>AULS493451-Winx</td>\n",
       "      <td>0.0</td>\n",
       "      <td>0</td>\n",
       "      <td>0.0</td>\n",
       "      <td>1.0</td>\n",
       "      <td>0.0</td>\n",
       "      <td>0.0</td>\n",
       "    </tr>\n",
       "    <tr>\n",
       "      <th>4</th>\n",
       "      <td>2019-11-01</td>\n",
       "      <td>QLD</td>\n",
       "      <td>Gold Coast</td>\n",
       "      <td>BNC</td>\n",
       "      <td>Hub</td>\n",
       "      <td>AULS.OOL103</td>\n",
       "      <td>03-Books</td>\n",
       "      <td>ALUN-ALUN</td>\n",
       "      <td>AULS493452-Spark of Light</td>\n",
       "      <td>0.0</td>\n",
       "      <td>0</td>\n",
       "      <td>0.0</td>\n",
       "      <td>1.0</td>\n",
       "      <td>0.0</td>\n",
       "      <td>0.0</td>\n",
       "    </tr>\n",
       "  </tbody>\n",
       "</table>\n",
       "</div>"
      ],
      "text/plain": [
       "        Date State        City           BU  Concept        Store    Category  \\\n",
       "0 2019-11-01   QLD    Brisbane  Foodservice     Cafe  AULS.BNE208    03-Books   \n",
       "1 2019-11-01   QLD    Brisbane    Specialty  Tech2Go  AULS.BNE205  09-Apparel   \n",
       "2 2019-11-01   QLD    Brisbane    Specialty  Tech2Go  AULS.BNE205  09-Apparel   \n",
       "3 2019-11-01   QLD  Gold Coast          BNC      Hub  AULS.OOL103    03-Books   \n",
       "4 2019-11-01   QLD  Gold Coast          BNC      Hub  AULS.OOL103    03-Books   \n",
       "\n",
       "                Brand                                     SKU  Net Sale  \\\n",
       "0  PENG-Pengiun Books  AULS499156-My Brothers Name Is Jessica       0.0   \n",
       "1                None  AULS466476-Mens Watch Traditional Asst       0.0   \n",
       "2                None   AULS494736BLKBLOS-CALICO TOTE TECH2GO       0.0   \n",
       "3           ALUN-ALUN                         AULS493451-Winx       0.0   \n",
       "4           ALUN-ALUN               AULS493452-Spark of Light       0.0   \n",
       "\n",
       "   Qty Sold  POS Margin on Net Sales  Stock Balance Qty  Margin  Net Sales  \n",
       "0         0                      0.0               -4.0     0.0        0.0  \n",
       "1         0                      0.0                1.0     0.0        0.0  \n",
       "2         0                      0.0               50.0     0.0        0.0  \n",
       "3         0                      0.0                1.0     0.0        0.0  \n",
       "4         0                      0.0                1.0     0.0        0.0  "
      ]
     },
     "execution_count": 3,
     "metadata": {},
     "output_type": "execute_result"
    }
   ],
   "source": [
    "new_data1.head()"
   ]
  },
  {
   "cell_type": "code",
   "execution_count": 4,
   "metadata": {},
   "outputs": [],
   "source": [
    " # save the cleaned dataset\n",
    "new_data1.to_csv('../../data/cleanedData/cleaned_data.csv', \n",
    "                             index=False, encoding='utf-8')"
   ]
  },
  {
   "cell_type": "code",
   "execution_count": 5,
   "metadata": {},
   "outputs": [
    {
     "ename": "NameError",
     "evalue": "name 'data_list' is not defined",
     "output_type": "error",
     "traceback": [
      "\u001b[0;31m---------------------------------------------------------------------------\u001b[0m",
      "\u001b[0;31mNameError\u001b[0m                                 Traceback (most recent call last)",
      "\u001b[0;32m<ipython-input-5-21d704a31fd9>\u001b[0m in \u001b[0;36m<module>\u001b[0;34m\u001b[0m\n\u001b[1;32m      1\u001b[0m \u001b[0;31m## merge muptiple datasets\u001b[0m\u001b[0;34m\u001b[0m\u001b[0;34m\u001b[0m\u001b[0;34m\u001b[0m\u001b[0m\n\u001b[0;32m----> 2\u001b[0;31m \u001b[0mdf\u001b[0m \u001b[0;34m=\u001b[0m \u001b[0mmerge_data\u001b[0m\u001b[0;34m(\u001b[0m\u001b[0mdata_list\u001b[0m\u001b[0;34m)\u001b[0m\u001b[0;34m\u001b[0m\u001b[0;34m\u001b[0m\u001b[0m\n\u001b[0m\u001b[1;32m      3\u001b[0m \u001b[0;34m\u001b[0m\u001b[0m\n\u001b[1;32m      4\u001b[0m \u001b[0;31m## OOS check\u001b[0m\u001b[0;34m\u001b[0m\u001b[0;34m\u001b[0m\u001b[0;34m\u001b[0m\u001b[0m\n\u001b[1;32m      5\u001b[0m \u001b[0moutput_data\u001b[0m \u001b[0;34m=\u001b[0m \u001b[0mcheck_OOS_by_rules\u001b[0m\u001b[0;34m(\u001b[0m\u001b[0mdf\u001b[0m\u001b[0;34m)\u001b[0m\u001b[0;34m\u001b[0m\u001b[0;34m\u001b[0m\u001b[0m\n",
      "\u001b[0;31mNameError\u001b[0m: name 'data_list' is not defined"
     ]
    }
   ],
   "source": [
    "## merge muptiple datasets\n",
    "df = merge_data(data_list)\n",
    "    \n",
    "## OOS check \n",
    "output_data = check_OOS_by_rules(df)\n",
    "output_data = convert_to_string_times(output_data)\n",
    "    \n",
    "## Output dataset\n",
    "output_data.to_csv('../../data/output/OOS_SKU.csv', index=False, encoding='utf-8')"
   ]
  }
 ],
 "metadata": {
  "kernelspec": {
   "display_name": "Python 3",
   "language": "python",
   "name": "python3"
  },
  "language_info": {
   "codemirror_mode": {
    "name": "ipython",
    "version": 3
   },
   "file_extension": ".py",
   "mimetype": "text/x-python",
   "name": "python",
   "nbconvert_exporter": "python",
   "pygments_lexer": "ipython3",
   "version": "3.7.3"
  }
 },
 "nbformat": 4,
 "nbformat_minor": 2
}
